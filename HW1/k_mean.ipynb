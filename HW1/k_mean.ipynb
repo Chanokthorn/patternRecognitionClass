{
 "cells": [
  {
   "cell_type": "code",
   "execution_count": 59,
   "metadata": {},
   "outputs": [],
   "source": [
    "import numpy as np\n",
    "import sys\n",
    "import copy\n",
    "import random\n",
    "\n",
    "def distance(a,b):\n",
    "    return ((a[0] - b[0]) ** 2 + (a[1] - b[1]) ** 2) ** 0.5\n",
    "\n",
    "def randomChoose(data, k):\n",
    "    return random.sample(data, k)\n",
    "\n",
    "def findCentroid(point, centroids):\n",
    "    centroid = 0\n",
    "    closest = 10000000\n",
    "    for i in centroids:\n",
    "        if (i == point):\n",
    "            centroid = i\n",
    "            break\n",
    "        if (distance(point, i) < closest):\n",
    "            centroid = i\n",
    "            closest = distance(point, i)\n",
    "    return centroid\n",
    "\n",
    "class Cluster:\n",
    "    def __init__(self,centroid,members):\n",
    "        self.centroid = centroid\n",
    "        self.members = members\n",
    "    def get_centroid(self):\n",
    "        return self.centroid\n",
    "    def get_members(self):\n",
    "        return self.members\n",
    "    def add_member(self, member):\n",
    "        self.members.append(member)\n",
    "    def remove_member(self, member):\n",
    "        self.members.remove(member)\n",
    "    def new_centroid(self):\n",
    "        x_sum = 0\n",
    "        y_sum = 0\n",
    "        for i in self.members:\n",
    "            x_sum += i[0]\n",
    "            y_sum += i[1]\n",
    "        mean_node = (x_sum/len(self.members), y_sum/len(self.members))\n",
    "        self.centroid = findCentroid(mean_node, self.members)\n",
    "        return self.centroid\n",
    "    def measure_distance(self):\n",
    "        distance_sum = 0\n",
    "        for i in self.members:\n",
    "            distance_sum += distance(i, self.centroid)\n",
    "        return distance_sum\n",
    "        \n",
    "def kMean(data, k):\n",
    "    random.shuffle(data)\n",
    "#     print('data: ', data)\n",
    "    centroids = randomChoose(data, k)\n",
    "    print('initialized centroids: ', centroids)\n",
    "#     centroids = [(3,3), (2,2), (-3,-3)]\n",
    "#     centroids = [(-3,-3), (2,2), (-7,-7)]\n",
    "    clusters = []\n",
    "    for i in centroids:\n",
    "        clusters.append(Cluster(i,[i]))\n",
    "    for i in data:\n",
    "        if i in centroids: continue\n",
    "        centroid = findCentroid(i, centroids)\n",
    "        for j in clusters:\n",
    "            if (j.get_centroid() == centroid):\n",
    "                j.add_member(i)\n",
    "    iteration = 0\n",
    "    while(True):\n",
    "#         print('iteration ', iteration)\n",
    "        iteration += 1\n",
    "        old_centroids = copy.deepcopy(centroids)\n",
    "        old_clusters = copy.deepcopy(clusters)\n",
    "#         for i in clusters:\n",
    "#             print(i.get_centroid(), i.get_members())\n",
    "        for i in clusters:\n",
    "            centroids.remove(i.get_centroid())\n",
    "            i.new_centroid()\n",
    "            centroids.append(i.get_centroid())\n",
    "        for i in data:\n",
    "            if i in centroids: continue\n",
    "            centroid = findCentroid(i, centroids)\n",
    "            for j in clusters:\n",
    "                if i in j.get_members():\n",
    "                    j.remove_member(i)\n",
    "                if (centroid == j.get_centroid()):\n",
    "                    j.add_member(i) \n",
    "        if(old_centroids == centroids):\n",
    "            equal_counter = 0\n",
    "            for i in range(len(clusters)):\n",
    "                if(clusters[i].get_members() == old_clusters[i].get_members()): \n",
    "                    equal_counter += 1\n",
    "            if(equal_counter == len(centroids)): break\n",
    "#     print('-------------------------------')\n",
    "#     print('result: ')\n",
    "#     for cluster in clusters:\n",
    "#         print(cluster.get_centroid(), cluster.get_members())\n",
    "    distance_sum = 0\n",
    "    for i in clusters:\n",
    "        distance_sum += i.measure_distance()\n",
    "    print('sum of distances: ', distance_sum)\n",
    "    return distance_sum\n",
    "    "
   ]
  },
  {
   "cell_type": "code",
   "execution_count": 56,
   "metadata": {},
   "outputs": [
    {
     "name": "stdout",
     "output_type": "stream",
     "text": [
      "initialized centroids:  [(-7, -7), (-3, -3), (6, 6)]\n",
      "sum of distances:  21.959473423536895\n"
     ]
    },
    {
     "data": {
      "text/plain": [
       "[<__main__.Cluster at 0x11b7a3470>,\n",
       " <__main__.Cluster at 0x11b7a31d0>,\n",
       " <__main__.Cluster at 0x11b7a3278>]"
      ]
     },
     "execution_count": 56,
     "metadata": {},
     "output_type": "execute_result"
    }
   ],
   "source": [
    "data = [(1,2),(3,3),(2,2),(8,8),(6,6),(7,7),(-3,-3),(-2,-4),(-7,-7)]\n",
    "kMean(data,3)"
   ]
  },
  {
   "cell_type": "code",
   "execution_count": 65,
   "metadata": {},
   "outputs": [
    {
     "name": "stdout",
     "output_type": "stream",
     "text": [
      "initialized centroids:  [(6, 6)]\n",
      "sum of distances:  50.63750942212083\n",
      "initialized centroids:  [(1, 2), (-2, -4)]\n",
      "sum of distances:  27.616327673029275\n",
      "initialized centroids:  [(1, 2), (2, 2), (-3, -3)]\n",
      "sum of distances:  12.313708498984761\n",
      "initialized centroids:  [(2, 2), (1, 2), (-3, -3), (-7, -7)]\n",
      "sum of distances:  6.656854249492381\n",
      "initialized centroids:  [(-2, -4), (8, 8), (3, 3), (-7, -7), (6, 6)]\n",
      "sum of distances:  5.242640687119286\n",
      "initialized centroids:  [(8, 8), (2, 2), (-7, -7), (-3, -3), (-2, -4), (1, 2)]\n",
      "sum of distances:  4.242640687119286\n",
      "initialized centroids:  [(-3, -3), (-2, -4), (3, 3), (-7, -7), (2, 2), (6, 6), (8, 8)]\n",
      "sum of distances:  2.414213562373095\n",
      "initialized centroids:  [(-2, -4), (1, 2), (2, 2), (3, 3), (6, 6), (7, 7), (-7, -7), (-3, -3)]\n",
      "sum of distances:  1.4142135623730951\n",
      "initialized centroids:  [(2, 2), (-2, -4), (-7, -7), (-3, -3), (6, 6), (8, 8), (3, 3), (7, 7), (1, 2)]\n",
      "sum of distances:  0.0\n"
     ]
    }
   ],
   "source": [
    "distances = []\n",
    "for i in range(1,10):\n",
    "    x = kMean(data,i)\n",
    "    distances.append(x)"
   ]
  },
  {
   "cell_type": "code",
   "execution_count": 66,
   "metadata": {},
   "outputs": [
    {
     "data": {
      "text/plain": [
       "[50.63750942212083,\n",
       " 27.616327673029275,\n",
       " 12.313708498984761,\n",
       " 6.656854249492381,\n",
       " 5.242640687119286,\n",
       " 4.242640687119286,\n",
       " 2.414213562373095,\n",
       " 1.4142135623730951,\n",
       " 0.0]"
      ]
     },
     "execution_count": 66,
     "metadata": {},
     "output_type": "execute_result"
    }
   ],
   "source": [
    "k = list(range(1,10))\n",
    "distances"
   ]
  },
  {
   "cell_type": "code",
   "execution_count": 69,
   "metadata": {},
   "outputs": [
    {
     "data": {
      "image/png": "[encoded data removed]",
      "text/plain": [
       "<Figure size 432x288 with 1 Axes>"
      ]
     },
     "metadata": {},
     "output_type": "display_data"
    }
   ],
   "source": [
    "import matplotlib.pyplot as plt\n",
    "plt.plot(k, distances, 'ro')\n",
    "plt.xlabel('K')\n",
    "plt.ylabel('distance sum')\n",
    "# plt.axis([0, 6, 0, 20])\n",
    "plt.show()"
   ]
  }
 ],
 "metadata": {
  "kernelspec": {
   "display_name": "Python 3",
   "language": "python",
   "name": "python3"
  },
  "language_info": {
   "codemirror_mode": {
    "name": "ipython",
    "version": 3
   },
   "file_extension": ".py",
   "mimetype": "text/x-python",
   "name": "python",
   "nbconvert_exporter": "python",
   "pygments_lexer": "ipython3",
   "version": "3.6.6"
  }
 },
 "nbformat": 4,
 "nbformat_minor": 2
}
